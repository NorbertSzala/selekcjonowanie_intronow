{
 "cells": [
  {
   "cell_type": "code",
   "execution_count": null,
   "id": "972ede24-9166-45f3-850e-eda825e7c06e",
   "metadata": {},
   "outputs": [],
   "source": [
    "    for nt1, nt2 in paired_nucleotides:\n",
    "        if \"-\" in (nt1, nt2):  # Jeśli którykolwiek z nukleotydów jest przerwą\n",
    "            temp_intron.append(index + count_deleted_gaps_left)\n",
    "        elif nt1 not in valid_nucleotides or nt2 not in valid_nucleotides:  # Jeśli nukleotydy nie są dozwolone\n",
    "            invalid_nucleotides.append((alignment_id, nt1, nt2, index + count_deleted_gaps_left))  # Dodanie nukleotydów i pozycji\n",
    "        else:\n",
    "            temp_exon.append(index + count_deleted_gaps_left)\n",
    "        index += 1  # Zwiększenie indeksu dla następnej pozycji w sekwencji\n",
    "    \n",
    "    return temp_intron, temp_exon, invalid_nucleotides\n"
   ]
  }
 ],
 "metadata": {
  "kernelspec": {
   "display_name": "Python 3 (ipykernel)",
   "language": "python",
   "name": "python3"
  },
  "language_info": {
   "codemirror_mode": {
    "name": "ipython",
    "version": 3
   },
   "file_extension": ".py",
   "mimetype": "text/x-python",
   "name": "python",
   "nbconvert_exporter": "python",
   "pygments_lexer": "ipython3",
   "version": "3.11.6"
  }
 },
 "nbformat": 4,
 "nbformat_minor": 5
}

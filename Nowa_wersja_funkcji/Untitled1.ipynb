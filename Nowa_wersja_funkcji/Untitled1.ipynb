{
 "cells": [
  {
   "cell_type": "code",
   "execution_count": null,
   "id": "113318f2-eca0-48fa-b554-541273695dbe",
   "metadata": {},
   "outputs": [],
   "source": [
    "import os\n",
    "from Bio import AlignIO\n",
    "\n",
    "def cutting_scrap(path_to_file_before_MAFFT, path_to_file_after_MAFFT, acceptable_gap_length):\n",
    "    gff_data_frames = []\n",
    "    gaps_signs = \"-\" * acceptable_gap_length  # maximum length of gaps in sequence in one exon's sequence\n",
    "    files_in_progress = 0\n",
    "    processed_files_count = 0  # Licznik przetworzonych plików\n",
    "    nucleotides = [\"a\", \"t\", \"g\", \"c\", \"A\", \"T\", \"G\", \"C\"]\n",
    "    column_names = ['seqid', 'source', 'exon_type', 'start', 'end', 'length', 'homology', 'strand', 'phase', 'attributes']\n",
    "    print(\"\\n\\n\\n\\n Just run function: cutting_scrap\")\n",
    "\n",
    "    total_files = len([f for f in os.listdir(path_to_file_after_MAFFT) if f.endswith(\".fasta\")])\n",
    "\n",
    "    for filename in os.listdir(path_to_file_after_MAFFT):\n",
    "        file = os.path.join(path_to_file_after_MAFFT, filename)\n",
    "        if not os.path.isfile(file):\n",
    "            continue\n",
    "        if file.endswith(\".fasta\"):\n",
    "            files_in_progress += 1\n",
    "            count_files = total_files\n",
    "            print(f\"\\n ################################################################################### \\n running file: {filename} which is {files_in_progress} of {count_files}, what means {round(files_in_progress/count_files*100, 2)}% of advancement \\n ################################################################################### \\n\")\n",
    "            try:\n",
    "                alignment = AlignIO.read(file, \"fasta\")\n",
    "                alignment_id = alignment[0].id\n",
    "                alignment_DIDNT_TOUCHED = AlignIO.read(file, \"fasta\")\n",
    "                # Dodaj tu dalszą logikę przetwarzania pliku...\n",
    "                \n",
    "                processed_files_count += 1  # Zwiększ licznik, jeśli przetwarzanie pliku zakończy się sukcesem\n",
    "            except Exception as e:\n",
    "                print(f\"Błąd podczas przetwarzania pliku {filename}: {e}\")\n",
    "\n",
    "        file_before_MAFFT = os.path.join(path_to_file_before_MAFFT, filename)\n",
    "        if not os.path.isfile(file_before_MAFFT):\n",
    "            continue\n",
    "\n",
    "    # Wyświetlenie liczby przetworzonych plików\n",
    "    print(f\"Liczba pomyślnie przetworzonych plików: {processed_files_count}\")\n",
    "\n",
    "# Przykładowe użycie funkcji\n",
    "path_to_file_before_MAFFT = \"/path/to/file/before/MAFFT\"\n",
    "path_to_file_after_MAFFT = \"/path/to/file/after/MAFFT\"\n",
    "acceptable_gap_length = 10\n",
    "\n",
    "cutting_scrap(path_to_file_before_MAFFT, path_to_file_after_MAFFT, acceptable_gap_length)\n"
   ]
  }
 ],
 "metadata": {
  "kernelspec": {
   "display_name": "Python 3 (ipykernel)",
   "language": "python",
   "name": "python3"
  },
  "language_info": {
   "codemirror_mode": {
    "name": "ipython",
    "version": 3
   },
   "file_extension": ".py",
   "mimetype": "text/x-python",
   "name": "python",
   "nbconvert_exporter": "python",
   "pygments_lexer": "ipython3",
   "version": "3.11.6"
  }
 },
 "nbformat": 4,
 "nbformat_minor": 5
}

{
 "cells": [
  {
   "cell_type": "code",
   "execution_count": 1,
   "id": "66167ceb-1ebd-4314-ae5e-09d005d7964e",
   "metadata": {},
   "outputs": [
    {
     "name": "stdout",
     "output_type": "stream",
     "text": [
      "dezoksyrybonukleinowy\n"
     ]
    }
   ],
   "source": [
    "DNA = 'dezoksyrybonukleinowy'\n",
    "print(DNA)"
   ]
  },
  {
   "cell_type": "code",
   "execution_count": 4,
   "id": "a3170ac3-2ce6-4546-ad23-21e3bcbe3c7f",
   "metadata": {},
   "outputs": [
    {
     "name": "stdout",
     "output_type": "stream",
     "text": [
      "\n"
     ]
    }
   ],
   "source": [
    "skrocone = DNA[1:-0]\n",
    "print(skrocone)"
   ]
  },
  {
   "cell_type": "code",
   "execution_count": null,
   "id": "84bf5663-f8e0-40ff-8401-61a53f2512d5",
   "metadata": {},
   "outputs": [],
   "source": []
  }
 ],
 "metadata": {
  "kernelspec": {
   "display_name": "Python 3 (ipykernel)",
   "language": "python",
   "name": "python3"
  },
  "language_info": {
   "codemirror_mode": {
    "name": "ipython",
    "version": 3
   },
   "file_extension": ".py",
   "mimetype": "text/x-python",
   "name": "python",
   "nbconvert_exporter": "python",
   "pygments_lexer": "ipython3",
   "version": "3.11.6"
  }
 },
 "nbformat": 4,
 "nbformat_minor": 5
}

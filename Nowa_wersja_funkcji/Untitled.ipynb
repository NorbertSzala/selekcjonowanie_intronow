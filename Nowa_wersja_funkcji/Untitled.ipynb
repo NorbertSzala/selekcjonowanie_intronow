{
 "cells": [
  {
   "cell_type": "code",
   "execution_count": null,
   "id": "19c56664-486e-4ad5-a220-0f375ceccc4f",
   "metadata": {},
   "outputs": [],
   "source": [
    "import os\n",
    "\n",
    "def merging_fastas(path_to_raw_reads, output_directory):\n",
    "    if not os.path.exists(output_directory):\n",
    "        os.makedirs(output_directory)\n",
    "    \n",
    "    for filename in os.listdir(path_to_raw_reads):\n",
    "        file_path = os.path.join(path_to_raw_reads, filename)\n",
    "        sequences_dict = {}\n",
    "        \n",
    "        if file_path.endswith(\".fasta\"):\n",
    "            with open(file_path, \"r\") as file:\n",
    "                for line in file:\n",
    "                    line = line.strip()\n",
    "                    if line.startswith(\">\"):\n",
    "                        organism_id = line.replace(\" \", \"_\")\n",
    "                        if organism_id not in sequences_dict:\n",
    "                            sequences_dict[organism_id] = []\n",
    "                    else:\n",
    "                        cleaned_line = line.replace(\"-\", \"\")\n",
    "                        sequences_dict[organism_id].append(cleaned_line)\n",
    "            \n",
    "            for organism_id, sequences in sequences_dict.items():\n",
    "                output_file = f\"{organism_id[1:4]}_{filename}\"\n",
    "                path_to_output_file = os.path.join(output_directory, output_file)\n",
    "                \n",
    "                joined_sequences = \"\".join(sequences)\n",
    "                \n",
    "                if not os.path.exists(path_to_output_file):\n",
    "                    with open(path_to_output_file, \"w\") as f:\n",
    "                        f.write(f\"{organism_id}\\n{joined_sequences}\\n\")\n",
    "                else:\n",
    "                    with open(path_to_output_file, \"r+\") as f:\n",
    "                        text = f.read()\n",
    "                        count = text.count(\">\")\n",
    "                        if count < 2:\n",
    "                            f.write(f\"{organism_id}\\n{joined_sequences}\\n\")\n",
    "                        else:\n",
    "                            print(f\"In the file {path_to_output_file}, there are already 2 fasta sequences. Please check if this is correct.\")\n",
    "\n",
    "# Example usage\n",
    "path_to_input = \"path_to_your_input_directory\"\n",
    "path_to_output = \"path_to_your_output_directory\"\n",
    "merging_fastas(path_to_input, path_to_output)\n"
   ]
  }
 ],
 "metadata": {
  "kernelspec": {
   "display_name": "Python 3 (ipykernel)",
   "language": "python",
   "name": "python3"
  },
  "language_info": {
   "codemirror_mode": {
    "name": "ipython",
    "version": 3
   },
   "file_extension": ".py",
   "mimetype": "text/x-python",
   "name": "python",
   "nbconvert_exporter": "python",
   "pygments_lexer": "ipython3",
   "version": "3.11.6"
  }
 },
 "nbformat": 4,
 "nbformat_minor": 5
}
